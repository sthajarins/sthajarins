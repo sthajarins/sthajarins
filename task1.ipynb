{
 "cells": [
  {
   "cell_type": "code",
   "execution_count": null,
   "id": "ba5b4005-e402-4a5a-b156-4134c3e935d3",
   "metadata": {},
   "outputs": [],
   "source": [
    "#Checking if a Number is Positive, Negative, or Zero\n",
    "num1=float(input(\"enter a number you want to check:\"))\n",
    "if num1>0:\n",
    "    print(\"Num is positive\")\n",
    "elif num1==0:\n",
    "    print(\"Num is zero\")\n",
    "else:\n",
    "    print(\"Num is negative\")"
   ]
  },
  {
   "cell_type": "code",
   "execution_count": 129,
   "id": "901ea25e-558b-4fec-b6d8-8c5075f77abe",
   "metadata": {},
   "outputs": [
    {
     "name": "stdin",
     "output_type": "stream",
     "text": [
      "enter a number you want to check: 89\n"
     ]
    },
    {
     "name": "stdout",
     "output_type": "stream",
     "text": [
      "Num you entered is  a prime number\n",
      "Num you entered is odd\n",
      "Num you entered 89 is out of range\n"
     ]
    }
   ],
   "source": [
    "# Checking if a number is prime number(Task Question no.2),between 1 and 10, ODD Even\n",
    "num1=int(input(\"enter a number you want to check:\"))\n",
    "if num1>1:\n",
    "    for i in range(2,(num1)):\n",
    "        if num1%i==0:\n",
    "            print(\"Num you entered is not prime number\")\n",
    "            break\n",
    "    else: \n",
    "        print(\"Num you entered is  a prime number\")\n",
    "       \n",
    "elif num1<1:\n",
    "    print(\"Num you entered is invalid\")\n",
    "else:\n",
    " print(\"Num you entered is not a prime number\")\n",
    "if num1>1:\n",
    "    if num1%2==0: \n",
    "        print(\"Num you entered is even \")\n",
    "    else:\n",
    "        print(\"Num you entered is odd\")\n",
    "else:\n",
    "    print(\"Num you entered is invalid\")\n",
    "if num1>1 and num1<10:\n",
    "    print(\"Num you entered\",num1, \"is in between 1 & 10\")\n",
    "else:\n",
    "    print(\"Num you entered\",num1, \"is out of range\")\n",
    "\n"
   ]
  },
  {
   "cell_type": "code",
   "execution_count": 149,
   "id": "1cb5c0f2-eeb9-4a18-92be-41ba805ea542",
   "metadata": {},
   "outputs": [
    {
     "name": "stdout",
     "output_type": "stream",
     "text": [
      "1 2 3 4 5 1 2 3 4 5 2 4 "
     ]
    }
   ],
   "source": [
    "#Iterating Over a List of Numbers\n",
    "numbers = [1, 2, 3, 4, 5]\n",
    "for i in numbers:\n",
    "    print(i,end=\" \") #printing at same row\n",
    "for i in range(len(numbers)):\n",
    "    print(numbers[i],end=\" \")\n",
    "for i in range(1,len(numbers),2):# range(start, stop, step)\n",
    "\n",
    "    print(numbers[i],end=\" \")"
   ]
  },
  {
   "cell_type": "code",
   "execution_count": 214,
   "id": "6e7337b4-4a66-468c-a3e0-93ca96c1b617",
   "metadata": {},
   "outputs": [
    {
     "name": "stdin",
     "output_type": "stream",
     "text": [
      "enter a number  5\n"
     ]
    },
    {
     "name": "stdout",
     "output_type": "stream",
     "text": [
      "even numbers upto 5 are [1, 3]\n",
      "Odd numbers upto 5 are [2, 4]\n"
     ]
    }
   ],
   "source": [
    "#Breaking/continue out of loops\n",
    "num1=int(input(\"enter a number \"))\n",
    "even=[]\n",
    "odd=[]\n",
    "for i in range(1,num1):\n",
    "    if i%2==1:\n",
    "        even.append(i)\n",
    "        continue\n",
    "    odd.append(i)\n",
    "print(\"even numbers upto\",num1,\"are\",even)\n",
    "print(\"Odd numbers upto\",num1,\"are\",odd)\n"
   ]
  },
  {
   "cell_type": "markdown",
   "id": "939f31c6-dfd9-41ed-8846-d6bf39f951ae",
   "metadata": {},
   "source": []
  },
  {
   "cell_type": "code",
   "execution_count": null,
   "id": "f743b27a-c132-479b-b933-4d71e24661e4",
   "metadata": {},
   "outputs": [],
   "source": [
    "import random\n",
    "# Computer picks a random number between 1 and 10\n",
    "secret_number = random.randint(1, 10)\n",
    "# Player's guess\n",
    "while True:\n",
    "    guess = int(input(\"Guess the number (between 1 and 10):\"))\n",
    "    if(guess == secret_number):\n",
    "        print(\"Correct! You guessed the number.\")\n",
    "        break\n",
    "    else:\n",
    "        print(\"Try again!\")"
   ]
  },
  {
   "cell_type": "code",
   "execution_count": 8,
   "id": "3238537e-8c2f-4c1b-8801-3d92190d07d6",
   "metadata": {},
   "outputs": [
    {
     "name": "stdin",
     "output_type": "stream",
     "text": [
      "enter your age 5\n"
     ]
    },
    {
     "name": "stdout",
     "output_type": "stream",
     "text": [
      "You are not eligible for voting You\"ll be eligible in 13\n"
     ]
    }
   ],
   "source": [
    "#Task 1: Simple Voting Eligibility Check\n",
    "age=int(input(\"enter your age\"))\n",
    "if(age>17):\n",
    "    print(\"You are eligible for voting\")\n",
    "else:\n",
    "    print(\"You are not eligible for voting You\\\"ll be eligible in\",18-age)\n",
    "    "
   ]
  },
  {
   "cell_type": "code",
   "execution_count": 13,
   "id": "ff23ccd5-f77f-4870-92db-a2869b31435a",
   "metadata": {},
   "outputs": [
    {
     "name": "stdout",
     "output_type": "stream",
     "text": [
      "enter operations do you want, 1 for add, 2 for sub, 3 for divide, 4 for mul\n"
     ]
    },
    {
     "name": "stdin",
     "output_type": "stream",
     "text": [
      "enter a number:  5\n",
      "enter a number:  5\n",
      "enter operations do you want 3\n"
     ]
    },
    {
     "name": "stdout",
     "output_type": "stream",
     "text": [
      "1.0\n"
     ]
    },
    {
     "name": "stdin",
     "output_type": "stream",
     "text": [
      "do you want to continue others operations press y for yes , n for no y\n",
      "enter a number:  5\n",
      "enter a number:  5\n",
      "enter operations do you want 5\n",
      "do you want to continue others operations press y for yes , n for no n\n"
     ]
    }
   ],
   "source": [
    "#Task 2: Create a simple calculator\n",
    "def add(x,y):\n",
    "    return(x+y)\n",
    "def sub(x,y):\n",
    "    return(x-y)\n",
    "def divide(x,y):\n",
    "    return(x/y)\n",
    "def mul(x,y):\n",
    "    return(x*y)\n",
    "print(\"enter operations do you want, 1 for add, 2 for sub, 3 for divide, 4 for mul\")\n",
    "while True:\n",
    "    num1=float(input(\"enter a number1: \"))\n",
    "    num2=float(input(\"enter a number2: \"))\n",
    "    operations=int(input(\"enter operations do you want\"))\n",
    "    if (operations==1):\n",
    "        add_1=add(num1,num2)\n",
    "        print(add_1)\n",
    "    elif (operations==2):\n",
    "        sub_1=sub(num1,num2)\n",
    "        print(sub_1)\n",
    "    elif (operations==3):\n",
    "        divide_1=divide(num1,num2)\n",
    "        print(divide_1)\n",
    "    elif (operations==4):\n",
    "        mul_1=mul(num1,num2)\n",
    "        print(mul_1)\n",
    "    d=input(\"do you want to continue others operations press y for yes , n for no\") \n",
    "    if d=='y':\n",
    "        continue\n",
    "    else:\n",
    "        break\n",
    "        \n",
    "    \n",
    "    \n",
    "    \n",
    "        "
   ]
  },
  {
   "cell_type": "code",
   "execution_count": 18,
   "id": "ab1cc74d-ed24-4ff8-bc49-66c52e7b6d26",
   "metadata": {},
   "outputs": [
    {
     "name": "stdout",
     "output_type": "stream",
     "text": [
      "maxmimum value in list is  8\n",
      "min value in list is 1\n"
     ]
    }
   ],
   "source": [
    "#Find the Maximum and Minimum of a List\n",
    "list_num=[1,8,5,7,3]\n",
    "print(\"Mmimum value in list is \",max(list_num))\n",
    "print(\"Min value in list is\",min(list_num))"
   ]
  },
  {
   "cell_type": "code",
   "execution_count": 12,
   "id": "7be33802-4b91-4279-b7c2-5f5c09703f05",
   "metadata": {},
   "outputs": [
    {
     "name": "stdin",
     "output_type": "stream",
     "text": [
      "enter a number for to find its factorial:  5\n"
     ]
    },
    {
     "name": "stdout",
     "output_type": "stream",
     "text": [
      "factorial of 5 is 120\n"
     ]
    }
   ],
   "source": [
    "#Factorial of a Number\n",
    "num=int(input(\"enter a number for to find its factorial: \"))\n",
    "num1=num\n",
    "Fac_result=1\n",
    "for i in range(num):\n",
    "    Fac_result*=num1\n",
    "    num1-=1\n",
    "print(\"Factorial of\", num, \"is\", Fac_result)\n",
    "    \n",
    "    \n"
   ]
  },
  {
   "cell_type": "code",
   "execution_count": 14,
   "id": "7ea3de88-8ad1-477c-9b60-e5541387b61e",
   "metadata": {},
   "outputs": [
    {
     "name": "stdin",
     "output_type": "stream",
     "text": [
      "enter first number: 1\n",
      "enter second number: 2\n",
      "enter number up to which you want to have fibonacci series : 6\n"
     ]
    },
    {
     "name": "stdout",
     "output_type": "stream",
     "text": [
      "['1']\n",
      "['1', '2']\n",
      "['1', '2', '3']\n",
      "['1', '2', '3', '5']\n",
      "['1', '2', '3', '5', '8']\n",
      "['1', '2', '3', '5', '8', '1', '3']\n",
      "fibonacci series are [1, 2, 3, 5, 8, 13] <class 'list'>\n",
      "Second fibonacci series are [1, 2, 3, 5, 8, 1, 3] <class 'list'>\n",
      "<class 'int'> <class 'str'>\n",
      "Final list after addition is ['2', '4', '6', '1', '0', '1', '6', '1', '4']\n"
     ]
    }
   ],
   "source": [
    " #fibonacci series\n",
    "a=int(input(\"enter first number:\"))\n",
    "b=int(input(\"enter second number:\"))\n",
    "n=int(input(\"enter number up to which you want to have fibonacci series :\"))\n",
    "i=0\n",
    "list1=[]\n",
    "fibbo_list1=[]\n",
    "add_list=[]\n",
    "while i<n:\n",
    "    list1.extend(str(a))\n",
    "    print(list1)\n",
    "    i+=1\n",
    "    fibbo_list1.append(a)\n",
    "    a,b=b,(a+b)\n",
    "print(\"fibonacci series are\",fibbo_list1,type(fibbo_list1))\n",
    "print(\"Second fibonacci series are\",list(map(int,list1)),type(list1))\n",
    "list2=list(map(int,list1))\n",
    "print(type(fibbo_list1[0]),type(list1[0]))\n",
    "for k in range(len(fibbo_list1)):\n",
    "    add_list.extend(str((fibbo_list1[k])+list2[k]))\n",
    "print(\"Final list after addition is\", add_list)"
   ]
  },
  {
   "cell_type": "code",
   "execution_count": 29,
   "id": "3b2f7d1c-f096-426e-8b0d-e33613c51515",
   "metadata": {},
   "outputs": [
    {
     "name": "stdin",
     "output_type": "stream",
     "text": [
      "enter first number: 1234\n"
     ]
    },
    {
     "name": "stdout",
     "output_type": "stream",
     "text": [
      "sum of digits of given integer will be 10\n"
     ]
    }
   ],
   "source": [
    "#Write a function to calculate the sum of digits of a given integer\n",
    "a=int(input(\"enter first number:\"))\n",
    "b=list(map(int,str(a)))\n",
    "sum=0\n",
    "for i in range(len(b)):\n",
    "    sum+=b[i]\n",
    "print(\"sum of digits of given integer will be\",sum)\n",
    "    \n"
   ]
  },
  {
   "cell_type": "code",
   "execution_count": 1,
   "id": "1274a00d-65ea-4c65-94b4-c107dcc70d1c",
   "metadata": {},
   "outputs": [
    {
     "name": "stdin",
     "output_type": "stream",
     "text": [
      "enter your choices \"rock\",\"paper\",\"scissors\" rock\n"
     ]
    },
    {
     "name": "stdout",
     "output_type": "stream",
     "text": [
      "you win the game\n"
     ]
    }
   ],
   "source": [
    "#rockscissorsgame\n",
    "import random as rd\n",
    "choices=[\"rock\",\"paper\",\"scissors\"]\n",
    "computer_choices=rd.choice(choices)\n",
    "player_Choices=input(\"enter your choices \\\"rock\\\",\\\"paper\\\",\\\"scissors\\\"\").lower()\n",
    "if(player_Choices==computer_choices):\n",
    "    print(\"its tie\")\n",
    "elif(player_Choices==\"rock\" and computer_choices==\"scissors\")or (player_Choices==\"scissors\" and computer_choices==\"paper\") or (player_Choices==\"paper\" and computer_choices==\"rock\"):\n",
    "    print(\"you win the game\")\n",
    "else:\n",
    "    print(\"you loose the game\")"
   ]
  },
  {
   "cell_type": "code",
   "execution_count": null,
   "id": "7f96622f-4240-49db-a1e9-2880bd35aa6c",
   "metadata": {},
   "outputs": [],
   "source": [
    "#Convert a decimal number to its binary representation.\n",
    "a=int(input(\"enter decimal number for binary conversion:\"))\n",
    "binf=[]\n",
    "b=a\n",
    "#for i in range(2):\n",
    "   # binf.append(bin0)\n",
    "#print(binf)\n",
    "if a>0:\n",
    "    while(b!=0):\n",
    "        binf.append(b%2)\n",
    "        b=b//2\n",
    "    else:\n",
    "        binf.append(b%2)\n",
    "else:\n",
    "    print(\"enter positive value\")\n",
    "binf.reverse()#cannot print directly by(print(binf.reverse(), encounters)\n",
    "print(binf)"
   ]
  },
  {
   "cell_type": "code",
   "execution_count": null,
   "id": "3c88b211-b6fc-4705-b261-b304e95426dc",
   "metadata": {},
   "outputs": [],
   "source": [
    "#Find the Second Largest Number in a List\n",
    "list1=[5,6,7,50,89,1000,800]\n",
    "list1.sort()\n",
    "print(list1)\n",
    "print(len(list1))\n",
    "print(list1[len(list1)-2])"
   ]
  },
  {
   "cell_type": "code",
   "execution_count": null,
   "id": "af1ea9f9-22be-46f1-8a14-694ecd5789be",
   "metadata": {},
   "outputs": [],
   "source": [
    "#Count the Number of Digits in a Number\n",
    "a=int(input(\"enter a number:\"))\n",
    "b=list(map(int,str(a)))\n",
    "print(\"number of digit in number is \", len(b))"
   ]
  },
  {
   "cell_type": "code",
   "execution_count": null,
   "id": "2617c6d0-12f8-4ff4-bf99-7c11883221d1",
   "metadata": {},
   "outputs": [],
   "source": [
    "#Check if a Number is a Power of Two\n",
    "n=int(input(\"enter a number:\"))\n",
    "if(n&(n-1)==0):\n",
    "    print(\"Number you entered\",n,\" power of 2\")\n",
    "else:\n",
    "    print(\"Number you entered\",n,\" is not power of two\")"
   ]
  },
  {
   "cell_type": "code",
   "execution_count": null,
   "id": "d5c2ad98-2571-450f-9175-a7789b692b4c",
   "metadata": {},
   "outputs": [],
   "source": [
    "def gcd_func (a, b):\n",
    "    while b != 0:\n",
    "        a, b = b, a % b\n",
    "    return a\n",
    "a=int(input(\"enter a first number:\"))\n",
    "b=int(input(\"enter a second number:\"))\n",
    "Gcd=gcd_func (a, b)\n",
    "print(Gcd)"
   ]
  },
  {
   "cell_type": "code",
   "execution_count": null,
   "id": "4d34f99a-87c7-4307-9b41-daffbba79cb6",
   "metadata": {},
   "outputs": [],
   "source": []
  }
 ],
 "metadata": {
  "kernelspec": {
   "display_name": "Python [conda env:base] *",
   "language": "python",
   "name": "conda-base-py"
  },
  "language_info": {
   "codemirror_mode": {
    "name": "ipython",
    "version": 3
   },
   "file_extension": ".py",
   "mimetype": "text/x-python",
   "name": "python",
   "nbconvert_exporter": "python",
   "pygments_lexer": "ipython3",
   "version": "3.12.7"
  }
 },
 "nbformat": 4,
 "nbformat_minor": 5
}

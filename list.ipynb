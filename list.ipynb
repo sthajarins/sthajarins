{
 "cells": [
  {
   "cell_type": "code",
   "execution_count": 8,
   "id": "ada88ee0-f293-4d8f-8c74-6ba753aff2cb",
   "metadata": {},
   "outputs": [
    {
     "name": "stdout",
     "output_type": "stream",
     "text": [
      " the arithmatic operations are:  4 , 20 , 5.0 , 1.6\n"
     ]
    }
   ],
   "source": [
    "print(\" the arithmatic operations are: \", (2+2),\",\",(50-5*6),\",\",(50-5*6)/4,\",\",8/5)"
   ]
  },
  {
   "cell_type": "code",
   "execution_count": 17,
   "id": "65a366e7-0946-4686-9e77-30f12386435b",
   "metadata": {},
   "outputs": [
    {
     "name": "stdout",
     "output_type": "stream",
     "text": [
      " the arithmatic operations are:  2.3333333333333335 , 5 , 2 , 17\n"
     ]
    }
   ],
   "source": [
    "print(\" the arithmatic operations are: \", (7/3),\",\",(17//3),\",\",(17%3),\",\",(5*3+2))"
   ]
  },
  {
   "cell_type": "code",
   "execution_count": 10,
   "id": "1eb84b25-c1ff-429d-b414-1ee1fc9af1dc",
   "metadata": {},
   "outputs": [
    {
     "name": "stdout",
     "output_type": "stream",
     "text": [
      "square or power operations 25 and 128\n"
     ]
    }
   ],
   "source": [
    "print(\"square or power operations\", (5**2),\"and\",(2**7))"
   ]
  },
  {
   "cell_type": "code",
   "execution_count": 11,
   "id": "4186a903-d5cf-430b-8857-35ef36fc6dbd",
   "metadata": {},
   "outputs": [
    {
     "name": "stdout",
     "output_type": "stream",
     "text": [
      "result is: 900\n"
     ]
    }
   ],
   "source": [
    "width = 20\n",
    "height = 5 * 9\n",
    "print(\"result is:\", width * height)\n"
   ]
  },
  {
   "cell_type": "code",
   "execution_count": 26,
   "id": "f334eaf3-970c-42d5-b400-b1fb48f0317b",
   "metadata": {},
   "outputs": [],
   "source": [
    "tax = 12.5 / 100\n",
    "price = 100.50"
   ]
  },
  {
   "cell_type": "code",
   "execution_count": 27,
   "id": "1997f017-825d-4c47-bb16-f1418fc54ee3",
   "metadata": {},
   "outputs": [
    {
     "data": {
      "text/plain": [
       "12.5625"
      ]
     },
     "execution_count": 27,
     "metadata": {},
     "output_type": "execute_result"
    }
   ],
   "source": [
    "price * tax"
   ]
  },
  {
   "cell_type": "code",
   "execution_count": 41,
   "id": "2739ff8f-d925-4c4f-b824-1a28984ede21",
   "metadata": {},
   "outputs": [
    {
     "name": "stdout",
     "output_type": "stream",
     "text": [
      " \"My name is niraj.\n",
      " I am Orginally from Nepal. \n",
      " and i have been joining bootcamp organised by Takeo \"\n"
     ]
    }
   ],
   "source": [
    "print(\" \\\"My name is niraj.\\n I am Orginally from Nepal. \\n and i have been joining bootcamp organised by Takeo \\\"\")"
   ]
  },
  {
   "cell_type": "code",
   "execution_count": 43,
   "id": "65dc0444-960a-418f-a617-a947ffe08b96",
   "metadata": {},
   "outputs": [
    {
     "name": "stdout",
     "output_type": "stream",
     "text": [
      "C:\\some\n",
      "ame\n"
     ]
    },
    {
     "name": "stderr",
     "output_type": "stream",
     "text": [
      "<>:1: SyntaxWarning: invalid escape sequence '\\s'\n",
      "<>:1: SyntaxWarning: invalid escape sequence '\\s'\n",
      "C:\\Users\\ADMIN\\AppData\\Local\\Temp\\ipykernel_3868\\3722566993.py:1: SyntaxWarning: invalid escape sequence '\\s'\n",
      "  print(\"C:\\some\\name\")\n"
     ]
    }
   ],
   "source": [
    "print(\"C:\\some\\name\")"
   ]
  },
  {
   "cell_type": "code",
   "execution_count": 44,
   "id": "404982fd-2efc-4eee-ae10-c78c72d2f6b5",
   "metadata": {},
   "outputs": [
    {
     "name": "stdout",
     "output_type": "stream",
     "text": [
      "C:\\some\\name\n"
     ]
    }
   ],
   "source": [
    "print(r\"C:\\some\\name\")"
   ]
  },
  {
   "cell_type": "code",
   "execution_count": 48,
   "id": "5e64d0c0-f87f-404e-b1d2-03f34f6c3744",
   "metadata": {},
   "outputs": [
    {
     "name": "stdout",
     "output_type": "stream",
     "text": [
      "papaya\n"
     ]
    }
   ],
   "source": [
    "#string concatenation examples\n",
    "print(2*\"pa\"+\"ya\")"
   ]
  },
  {
   "cell_type": "code",
   "execution_count": 51,
   "id": "901f45b8-e1f2-45fc-9341-764a9ea11d3c",
   "metadata": {},
   "outputs": [
    {
     "name": "stdout",
     "output_type": "stream",
     "text": [
      "Py thon Python\n"
     ]
    }
   ],
   "source": [
    "print(\"Py\",\"thon\",\"Py\"+\"thon\")"
   ]
  },
  {
   "cell_type": "code",
   "execution_count": 61,
   "id": "36f69464-0e4b-400f-a45e-d53029a9c011",
   "metadata": {},
   "outputs": [
    {
     "name": "stdout",
     "output_type": "stream",
     "text": [
      "THe Length of C is 6 .C[0]=  P andC[-6]= P Both are accesing same Character\n"
     ]
    }
   ],
   "source": [
    "C=\"Python\"\n",
    "print(\"THe Length of C is\", len(C),\".C[0]= \", C[0],\"and\" \"C[-6]=\", C[-6],\"Both are accesing same Character\" )\n"
   ]
  },
  {
   "cell_type": "code",
   "execution_count": 69,
   "id": "12b913e3-c0c9-464c-a498-5a737656d9ee",
   "metadata": {},
   "outputs": [
    {
     "name": "stdout",
     "output_type": "stream",
     "text": [
      "Python Python y ython P ython\n"
     ]
    }
   ],
   "source": [
    "C=\"Python\"\n",
    "print(C, C[0:],C[1],C[1:],C[:1],C[1:6])"
   ]
  },
  {
   "cell_type": "code",
   "execution_count": 95,
   "id": "236fdda9-7b3e-454c-b633-baba65dc3c33",
   "metadata": {},
   "outputs": [
    {
     "name": "stdout",
     "output_type": "stream",
     "text": [
      "[1, 2, 3, 4, 5] 5 1\n",
      "['niraj', 2, 3, 4, 5]\n",
      "['niraj', 'hari', 'shyam', 'Ayush', 'Shubha', 'Aelish']\n",
      "['niraj', 'hari', 'shyam', 'Ayush', 'Shubha']\n",
      "['hari', 'shyam', 'Ayush', 'Shubha']\n",
      "['hari', 'shyam', 'Ayush', 'Shubha', 'Aelish']\n",
      "['Niraj', 'hari', 'shyam', 'Ayush', 'Shubha', 'Aelish']\n",
      "['Aelish', 'Ayush', 'Niraj', 'Shubha', 'hari', 'shyam']\n",
      "['shyam', 'hari', 'Shubha', 'Niraj', 'Ayush', 'Aelish']\n",
      " new list is ['shyam', 'hari', 'Shubha', 'Niraj', 'Ayush', 'Aelish']\n",
      "[1, 2, 3, 8, 100, 'shyam', 'hari', 'Shubha', 'Niraj', 'Ayush', 'Aelish']\n",
      "[1, 2, 3, 8, 100, 'shyam', 'hari', 'Shubha', 'Niraj', 'Ayush']\n"
     ]
    }
   ],
   "source": [
    "#List\n",
    "sq=[1,2,3,4,5]\n",
    "print(sq,len(sq),sq[0])\n",
    "sq[0]=\"niraj\"\n",
    "print(sq)\n",
    "sq[1:]=[\"hari\",\"shyam\",\"Ayush\",\"Shubha\",\"Aelish\"]\n",
    "print(sq)\n",
    "sq.remove(\"Aelish\")\n",
    "print(sq)\n",
    "del sq[0]\n",
    "print(sq)\n",
    "sq.append(\"Aelish\")\n",
    "print(sq)\n",
    "sq.insert(0,\"Niraj\")\n",
    "print(sq)\n",
    "sq.sort()\n",
    "print(sq)\n",
    "sq.sort(reverse=True)\n",
    "print(sq)\n",
    "newlist=[]\n",
    "newlist.extend(sq)\n",
    "print(\" new list is\", newlist)\n",
    "age=[1,2,3,8,100]\n",
    "new_list=age+sq\n",
    "print(new_list)\n",
    "new_list.pop()\n",
    "print(new_list)\n"
   ]
  },
  {
   "cell_type": "code",
   "execution_count": 4,
   "id": "3a4ef6c0-6c6c-48e1-ae10-98b6a9219410",
   "metadata": {},
   "outputs": [
    {
     "name": "stdout",
     "output_type": "stream",
     "text": [
      "2\n",
      "3\n",
      "hari\n",
      "radha\n",
      "[[2, 3, 4], ['hari', 'radha', 'Krisha']]\n",
      "[2, 3, 4]\n",
      "['hari', 'radha', 'Krisha']\n",
      "3 and Krisha\n"
     ]
    }
   ],
   "source": [
    "list1=[2,3,4]\n",
    "print(list1[0])\n",
    "print(list1[1])\n",
    "list2=[\"hari\",\"radha\",\"Krisha\"]\n",
    "print(list2[0])\n",
    "print(list2[1])\n",
    "list3=[list1,list2]\n",
    "print(list3)\n",
    "print(list3[0])\n",
    "print(list3[1])\n",
    "print(list3[0][1],\"and\",list3[1][2])"
   ]
  },
  {
   "cell_type": "markdown",
   "id": "c61c8054-6365-46bf-8f1c-51101e4885a3",
   "metadata": {},
   "source": []
  },
  {
   "cell_type": "code",
   "execution_count": 46,
   "id": "fb8d54fb-a294-4d08-9d89-a419130a3b4c",
   "metadata": {},
   "outputs": [
    {
     "name": "stdin",
     "output_type": "stream",
     "text": [
      "enter first number: 0\n",
      "enter second number: 1\n",
      "enter number up to which you want to have fibonacci series : 5\n"
     ]
    },
    {
     "name": "stdout",
     "output_type": "stream",
     "text": [
      "['0']\n",
      "['0', '1']\n",
      "['0', '1', '1']\n",
      "['0', '1', '1', '2']\n",
      "['0', '1', '1', '2', '3']\n",
      "fibonacci series are [0, 1, 1, 2, 3] <class 'list'>\n",
      "Second fibonacci series are [0, 1, 1, 2, 3] <class 'list'>\n",
      "<class 'int'> <class 'str'>\n",
      "Final list after addition is ['0', '2', '2', '4', '6']\n"
     ]
    }
   ],
   "source": [
    " #fibonacci series\n",
    "a=int(input(\"enter first number:\"))\n",
    "b=int(input(\"enter second number:\"))\n",
    "n=int(input(\"enter number up to which you want to have fibonacci series :\"))\n",
    "i=0\n",
    "list1=[]\n",
    "fibbo_list1=[]\n",
    "add_list=[]\n",
    "while i<n:\n",
    "    list1.extend(str(a))\n",
    "    print(list1)\n",
    "    i+=1\n",
    "    fibbo_list1.append(a)\n",
    "    a,b=b,(a+b)\n",
    "print(\"fibonacci series are\",fibbo_list1,type(fibbo_list1))\n",
    "print(\"Second fibonacci series are\",list(map(int,list1)),type(list1))\n",
    "list2=list(map(int,list1))\n",
    "print(type(fibbo_list1[0]),type(list1[0]))\n",
    "for k in range(len(fibbo_list1)):\n",
    "    add_list.extend(str((fibbo_list1[k])+list2[k]))\n",
    "print(\"Final list after addition is\", add_list)"
   ]
  },
  {
   "cell_type": "code",
   "execution_count": 49,
   "id": "9ed1a962-e2cf-4d12-98b1-a07f55ad5576",
   "metadata": {},
   "outputs": [
    {
     "name": "stdout",
     "output_type": "stream",
     "text": [
      "0,1,1,2,3,5,8,13,21,34,55,89,144,233,377,610,987,"
     ]
    }
   ],
   "source": [
    "a, b = 0, 1\n",
    "while a < 1000:\n",
    "    print(a, end=',')\n",
    "    a, b = b, a+b\n"
   ]
  },
  {
   "cell_type": "code",
   "execution_count": null,
   "id": "8cc62726-950a-41ad-8e3e-de506089124f",
   "metadata": {},
   "outputs": [],
   "source": []
  }
 ],
 "metadata": {
  "kernelspec": {
   "display_name": "Python [conda env:base] *",
   "language": "python",
   "name": "conda-base-py"
  },
  "language_info": {
   "codemirror_mode": {
    "name": "ipython",
    "version": 3
   },
   "file_extension": ".py",
   "mimetype": "text/x-python",
   "name": "python",
   "nbconvert_exporter": "python",
   "pygments_lexer": "ipython3",
   "version": "3.12.7"
  }
 },
 "nbformat": 4,
 "nbformat_minor": 5
}
